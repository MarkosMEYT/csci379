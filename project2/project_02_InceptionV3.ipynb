{
  "nbformat": 4,
  "nbformat_minor": 0,
  "metadata": {
    "colab": {
      "provenance": [],
      "machine_shape": "hm",
      "gpuType": "V100"
    },
    "kernelspec": {
      "name": "python3",
      "display_name": "Python 3"
    },
    "language_info": {
      "name": "python"
    },
    "accelerator": "GPU"
  },
  "cells": [
    {
      "cell_type": "code",
      "execution_count": 1,
      "metadata": {
        "id": "FcWZcr1p3ax-"
      },
      "outputs": [],
      "source": [
        "import tensorflow as tf\n",
        "from tensorflow.keras.applications.inception_v3 import InceptionV3, preprocess_input\n",
        "import tensorflow_datasets as tfds"
      ]
    },
    {
      "cell_type": "code",
      "source": [
        "def preprocess(image, label):\n",
        "    image = tf.image.resize(image, (299, 299))\n",
        "    image = preprocess_input(image)  # Preprocessing specific to InceptionV3\n",
        "    return image, label\n",
        "\n",
        "# Load the dataset\n",
        "(train_data, test_data), dataset_info = tfds.load(\n",
        "    'food101',\n",
        "    split=['train', 'validation'],\n",
        "    as_supervised=True,\n",
        "    with_info=True\n",
        ")\n",
        "\n",
        "# Preprocess the data\n",
        "train_data = train_data.map(preprocess).batch(32).prefetch(tf.data.experimental.AUTOTUNE)\n",
        "test_data = test_data.map(preprocess).batch(32).prefetch(tf.data.experimental.AUTOTUNE)"
      ],
      "metadata": {
        "id": "-O1jIYB03tDL"
      },
      "execution_count": 14,
      "outputs": []
    },
    {
      "cell_type": "code",
      "source": [
        "# Initialize the InceptionV3 model\n",
        "base_model = InceptionV3(weights='imagenet', include_top=False, input_shape=(299, 299, 3))\n",
        "base_model.trainable = False  # Freeze the layers\n",
        "\n",
        "model = tf.keras.Sequential([\n",
        "    base_model,\n",
        "    tf.keras.layers.GlobalAveragePooling2D(),\n",
        "    tf.keras.layers.Dense(1024, activation='relu'),\n",
        "    tf.keras.layers.Dense(dataset_info.features['label'].num_classes, activation='softmax')\n",
        "])\n",
        "\n",
        "model.compile(optimizer='adam', loss='sparse_categorical_crossentropy', metrics=['accuracy'])"
      ],
      "metadata": {
        "id": "g8q7BrEM3z1S"
      },
      "execution_count": 17,
      "outputs": []
    },
    {
      "cell_type": "code",
      "source": [
        "history = model.fit(train_data, epochs=5, validation_data=test_data)"
      ],
      "metadata": {
        "colab": {
          "base_uri": "https://localhost:8080/"
        },
        "id": "PnIjmbVi312S",
        "outputId": "056f93b8-6f20-4e5b-bd9d-582a388538dd"
      },
      "execution_count": 18,
      "outputs": [
        {
          "output_type": "stream",
          "name": "stdout",
          "text": [
            "Epoch 1/5\n",
            "2368/2368 [==============================] - 143s 59ms/step - loss: 2.1027 - accuracy: 0.4696 - val_loss: 1.6164 - val_accuracy: 0.5663\n",
            "Epoch 2/5\n",
            "2368/2368 [==============================] - 138s 58ms/step - loss: 1.6458 - accuracy: 0.5696 - val_loss: 1.5059 - val_accuracy: 0.5909\n",
            "Epoch 3/5\n",
            "2368/2368 [==============================] - 138s 58ms/step - loss: 1.4761 - accuracy: 0.6089 - val_loss: 1.5061 - val_accuracy: 0.5994\n",
            "Epoch 4/5\n",
            "2368/2368 [==============================] - 138s 58ms/step - loss: 1.3530 - accuracy: 0.6383 - val_loss: 1.5127 - val_accuracy: 0.5985\n",
            "Epoch 5/5\n",
            "2368/2368 [==============================] - 137s 58ms/step - loss: 1.2504 - accuracy: 0.6612 - val_loss: 1.5703 - val_accuracy: 0.5945\n"
          ]
        }
      ]
    },
    {
      "cell_type": "code",
      "source": [
        "loss, accuracy = model.evaluate(test_data)\n",
        "print(f\"Test accuracy: {accuracy * 100}%\")"
      ],
      "metadata": {
        "colab": {
          "base_uri": "https://localhost:8080/"
        },
        "id": "Kl9hL2CQ34kL",
        "outputId": "efdb1e77-e0f1-4944-e079-0c713ce0a1d8"
      },
      "execution_count": 19,
      "outputs": [
        {
          "output_type": "stream",
          "name": "stdout",
          "text": [
            "790/790 [==============================] - 34s 43ms/step - loss: 1.5703 - accuracy: 0.5945\n",
            "Test accuracy: 59.445542097091675%\n"
          ]
        }
      ]
    }
  ]
}