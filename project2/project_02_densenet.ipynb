{
 "cells": [
  {
   "cell_type": "code",
   "execution_count": 17,
   "id": "684f0f9f",
   "metadata": {},
   "outputs": [],
   "source": [
    "import numpy as np\n",
    "import pandas as pd\n",
    "import matplotlib.pyplot as plt\n",
    "import tensorflow as tf\n",
    "from tensorflow.keras.preprocessing.image import ImageDataGenerator\n",
    "from tensorflow.keras.applications import DenseNet121\n",
    "from tensorflow.keras.layers import Dense, GlobalAveragePooling2D\n",
    "from tensorflow.keras.optimizers import Adam\n",
    "from tensorflow.keras.models import Model\n",
    "import tensorflow_datasets as tfds"
   ]
  },
  {
   "cell_type": "code",
   "execution_count": 13,
   "id": "be2a5e8f",
   "metadata": {},
   "outputs": [],
   "source": [
    "(train_dataset, dev_dataset), ds_info = tfds.load(\n",
    "    \"food101\",\n",
    "    split=[\"train\", \"validation\"],\n",
    "    shuffle_files=True,\n",
    "    as_supervised=True,   # tuple-format (image tensors, label)\n",
    "    with_info=True       # metadata\n",
    ")"
   ]
  },
  {
   "cell_type": "code",
   "execution_count": 14,
   "id": "a2efbba5",
   "metadata": {},
   "outputs": [],
   "source": [
    "def preprocess(image, label):\n",
    "    # Resize images to the size expected by DenseNet\n",
    "    image = tf.image.resize(image, [224, 224])\n",
    "    # Normalize pixel values\n",
    "    image = tf.keras.applications.densenet.preprocess_input(image)\n",
    "    return image, label\n",
    "\n",
    "train_dataset = train_dataset.map(preprocess).batch(32)\n",
    "dev_dataset = dev_dataset.map(preprocess).batch(32)\n"
   ]
  },
  {
   "cell_type": "code",
   "execution_count": 37,
   "id": "2c23c0e3",
   "metadata": {},
   "outputs": [],
   "source": [
    "base_model = DenseNet121(weights='imagenet', include_top=False)\n",
    "x = base_model.output\n",
    "x = GlobalAveragePooling2D()(x)\n",
    "x = Dense(1024, activation='relu')(x)\n",
    "predictions = Dense(ds_info.features['label'].num_classes, activation='softmax')(x)\n",
    "\n",
    "model = Model(inputs=base_model.input, outputs=predictions)\n",
    "\n",
    "# Freeze the layers of the base model\n",
    "for layer in base_model.layers:\n",
    "    layer.trainable = False\n"
   ]
  },
  {
   "cell_type": "code",
   "execution_count": 28,
   "id": "b235625e",
   "metadata": {},
   "outputs": [],
   "source": [
    "model.compile(optimizer=Adam(learning_rate=0.001),\n",
    "              loss='sparse_categorical_crossentropy',\n",
    "              metrics=['accuracy'])"
   ]
  },
  {
   "cell_type": "code",
   "execution_count": 29,
   "id": "65008a92",
   "metadata": {},
   "outputs": [
    {
     "name": "stdout",
     "output_type": "stream",
     "text": [
      "Epoch 1/10\n",
      "2368/2368 [==============================] - 99s 40ms/step - loss: 1.9368 - accuracy: 0.5105 - val_loss: 1.4653 - val_accuracy: 0.6043\n",
      "Epoch 2/10\n",
      "2368/2368 [==============================] - 93s 39ms/step - loss: 1.4992 - accuracy: 0.6050 - val_loss: 1.3202 - val_accuracy: 0.6400\n",
      "Epoch 3/10\n",
      "2368/2368 [==============================] - 93s 39ms/step - loss: 1.3497 - accuracy: 0.6410 - val_loss: 1.3420 - val_accuracy: 0.6349\n",
      "Epoch 4/10\n",
      "2368/2368 [==============================] - 93s 39ms/step - loss: 1.2324 - accuracy: 0.6677 - val_loss: 1.3207 - val_accuracy: 0.6467\n",
      "Epoch 5/10\n",
      "2368/2368 [==============================] - 93s 39ms/step - loss: 1.1173 - accuracy: 0.6948 - val_loss: 1.3213 - val_accuracy: 0.6518\n",
      "Epoch 6/10\n",
      "2368/2368 [==============================] - 93s 39ms/step - loss: 1.0282 - accuracy: 0.7157 - val_loss: 1.4126 - val_accuracy: 0.6413\n",
      "Epoch 7/10\n",
      "2368/2368 [==============================] - 93s 39ms/step - loss: 0.9406 - accuracy: 0.7353 - val_loss: 1.4532 - val_accuracy: 0.6339\n",
      "Epoch 8/10\n",
      "2368/2368 [==============================] - 92s 39ms/step - loss: 0.8618 - accuracy: 0.7517 - val_loss: 1.4762 - val_accuracy: 0.6445\n",
      "Epoch 9/10\n",
      "2368/2368 [==============================] - 93s 39ms/step - loss: 0.7837 - accuracy: 0.7735 - val_loss: 1.5940 - val_accuracy: 0.6351\n",
      "Epoch 10/10\n",
      "2368/2368 [==============================] - 93s 39ms/step - loss: 0.7166 - accuracy: 0.7902 - val_loss: 1.6672 - val_accuracy: 0.6289\n"
     ]
    }
   ],
   "source": [
    "history = model.fit(train_dataset, validation_data=dev_dataset, epochs=10)\n"
   ]
  },
  {
   "cell_type": "code",
   "execution_count": 30,
   "id": "9dab0e22",
   "metadata": {},
   "outputs": [
    {
     "name": "stdout",
     "output_type": "stream",
     "text": [
      "790/790 [==============================] - 23s 29ms/step - loss: 1.6672 - accuracy: 0.6289\n",
      "Test Accuracy: 62.89%\n"
     ]
    }
   ],
   "source": [
    "evaluation = model.evaluate(dev_dataset)\n",
    "print(f\"Test Accuracy: {evaluation[1] * 100:.2f}%\")"
   ]
  },
  {
   "cell_type": "code",
   "execution_count": 38,
   "id": "1505c914",
   "metadata": {},
   "outputs": [],
   "source": [
    "N = 2\n",
    "for layer in base_model.layers[-N:]:  # Unfreeze the last N layers\n",
    "    layer.trainable = True"
   ]
  },
  {
   "cell_type": "code",
   "execution_count": null,
   "id": "2882e68a",
   "metadata": {},
   "outputs": [
    {
     "name": "stdout",
     "output_type": "stream",
     "text": [
      "Epoch 1/15\n",
      "2368/2368 [==============================] - 100s 40ms/step - loss: 2.0136 - accuracy: 0.4952 - val_loss: 1.3962 - val_accuracy: 0.6258\n",
      "Epoch 2/15\n",
      "2368/2368 [==============================] - 93s 39ms/step - loss: 1.5594 - accuracy: 0.5910 - val_loss: 1.3377 - val_accuracy: 0.6397\n",
      "Epoch 3/15\n",
      "2368/2368 [==============================] - 93s 39ms/step - loss: 1.4008 - accuracy: 0.6285 - val_loss: 1.3466 - val_accuracy: 0.6376\n",
      "Epoch 4/15\n",
      "2368/2368 [==============================] - 92s 39ms/step - loss: 1.2831 - accuracy: 0.6529 - val_loss: 1.2873 - val_accuracy: 0.6584\n",
      "Epoch 5/15\n",
      "2368/2368 [==============================] - 92s 39ms/step - loss: 1.1767 - accuracy: 0.6790 - val_loss: 1.3252 - val_accuracy: 0.6491\n",
      "Epoch 6/15\n",
      "2368/2368 [==============================] - 93s 39ms/step - loss: 1.0749 - accuracy: 0.7015 - val_loss: 1.3622 - val_accuracy: 0.6499\n",
      "Epoch 7/15\n",
      "2368/2368 [==============================] - 92s 39ms/step - loss: 0.9881 - accuracy: 0.7215 - val_loss: 1.4121 - val_accuracy: 0.6443\n",
      "Epoch 8/15\n",
      "2368/2368 [==============================] - 93s 39ms/step - loss: 0.9038 - accuracy: 0.7417 - val_loss: 1.4527 - val_accuracy: 0.6460\n",
      "Epoch 9/15\n",
      "2367/2368 [============================>.] - ETA: 0s - loss: 0.8376 - accuracy: 0.7583"
     ]
    }
   ],
   "source": [
    "additional_epochs = 15\n",
    "model.compile(optimizer=Adam(learning_rate=0.001),\n",
    "              loss='sparse_categorical_crossentropy',\n",
    "              metrics=['accuracy'])\n",
    "model.fit(train_dataset, epochs=additional_epochs, validation_data=dev_dataset)"
   ]
  },
  {
   "cell_type": "code",
   "execution_count": null,
   "id": "94bf12f3",
   "metadata": {},
   "outputs": [],
   "source": []
  }
 ],
 "metadata": {
  "kernelspec": {
   "display_name": "Python 3 (ipykernel)",
   "language": "python",
   "name": "python3"
  },
  "language_info": {
   "codemirror_mode": {
    "name": "ipython",
    "version": 3
   },
   "file_extension": ".py",
   "mimetype": "text/x-python",
   "name": "python",
   "nbconvert_exporter": "python",
   "pygments_lexer": "ipython3",
   "version": "3.8.10"
  }
 },
 "nbformat": 4,
 "nbformat_minor": 5
}
