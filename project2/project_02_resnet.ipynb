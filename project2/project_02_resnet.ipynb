{
  "cells": [
    {
      "cell_type": "code",
      "execution_count": 3,
      "metadata": {
        "id": "4QbnAS332XoL"
      },
      "outputs": [],
      "source": [
        "import tensorflow as tf\n",
        "import tensorflow_datasets as tfds\n",
        "from tensorflow.keras.applications.resnet50 import ResNet50, preprocess_input"
      ]
    },
    {
      "cell_type": "code",
      "execution_count": 2,
      "metadata": {
        "id": "7DEpIMYT2nAx"
      },
      "outputs": [],
      "source": [
        "# Load the Food101 dataset info\n",
        "food101_info = tfds.builder('food101').info"
      ]
    },
    {
      "cell_type": "code",
      "execution_count": 6,
      "metadata": {
        "id": "DeudV3WC3nlg"
      },
      "outputs": [],
      "source": [
        "# Load the dataset\n",
        "(train_data, test_data) = tfds.load('food101', split=['train', 'validation'], as_supervised=True)"
      ]
    },
    {
      "cell_type": "code",
      "execution_count": 7,
      "metadata": {
        "id": "5tq8fq7b20Vr"
      },
      "outputs": [],
      "source": [
        "def preprocess(image, label):\n",
        "    image = tf.image.resize(image, (224, 224))\n",
        "    image = preprocess_input(image)  # Preprocessing specific to ResNet-50\n",
        "    return image, label"
      ]
    },
    {
      "cell_type": "code",
      "execution_count": 8,
      "metadata": {
        "id": "g26g-iMn21oN"
      },
      "outputs": [],
      "source": [
        "# Preprocess the data\n",
        "train_data = train_data.map(preprocess).batch(32).prefetch(tf.data.experimental.AUTOTUNE)\n",
        "test_data = test_data.map(preprocess).batch(32).prefetch(tf.data.experimental.AUTOTUNE)"
      ]
    },
    {
      "cell_type": "code",
      "execution_count": 9,
      "metadata": {
        "id": "shup2A7Q3GmN"
      },
      "outputs": [],
      "source": [
        "# Data augmentation\n",
        "data_augmentation = tf.keras.Sequential([\n",
        "    tf.keras.layers.experimental.preprocessing.RandomFlip(\"horizontal_and_vertical\"),\n",
        "    tf.keras.layers.experimental.preprocessing.RandomRotation(0.2),\n",
        "    tf.keras.layers.experimental.preprocessing.RandomZoom(0.2)\n",
        "])\n",
        "\n",
        "# Apply data augmentation on training dataset\n",
        "train_data = train_data.map(lambda x, y: (data_augmentation(x, training=True), y))"
      ]
    },
    {
      "cell_type": "code",
      "execution_count": 10,
      "metadata": {
        "id": "pVWbNfzO3N5L",
        "colab": {
          "base_uri": "https://localhost:8080/"
        },
        "outputId": "f812cb96-ad5d-478a-f177-242d7c51d7b7"
      },
      "outputs": [
        {
          "output_type": "stream",
          "name": "stdout",
          "text": [
            "Downloading data from https://storage.googleapis.com/tensorflow/keras-applications/resnet/resnet50_weights_tf_dim_ordering_tf_kernels_notop.h5\n",
            "94765736/94765736 [==============================] - 3s 0us/step\n"
          ]
        }
      ],
      "source": [
        "# Initialize the ResNet-50 model\n",
        "base_model = ResNet50(weights='imagenet', include_top=False, input_shape=(224, 224, 3))\n",
        "base_model.trainable = False  # Freeze the layers\n",
        "\n",
        "model = tf.keras.Sequential([\n",
        "    base_model,\n",
        "    tf.keras.layers.GlobalAveragePooling2D(),\n",
        "    tf.keras.layers.Dense(1024, activation='relu'),\n",
        "    tf.keras.layers.Dense(101, activation='softmax')\n",
        "])\n",
        "\n",
        "model.compile(optimizer='adam', loss='sparse_categorical_crossentropy', metrics=['accuracy'])"
      ]
    },
    {
      "cell_type": "code",
      "execution_count": 11,
      "metadata": {
        "id": "AuxYKle53OuB",
        "colab": {
          "base_uri": "https://localhost:8080/"
        },
        "outputId": "e10789fd-c9ae-4c01-8f66-e73c02003809"
      },
      "outputs": [
        {
          "output_type": "stream",
          "name": "stdout",
          "text": [
            "Epoch 1/5\n",
            "2368/2368 [==============================] - 807s 336ms/step - loss: 2.4033 - accuracy: 0.4092 - val_loss: 1.7072 - val_accuracy: 0.5477\n",
            "Epoch 2/5\n",
            "2368/2368 [==============================] - 798s 337ms/step - loss: 2.0010 - accuracy: 0.4929 - val_loss: 1.5597 - val_accuracy: 0.5835\n",
            "Epoch 3/5\n",
            "2368/2368 [==============================] - 793s 335ms/step - loss: 1.8754 - accuracy: 0.5207 - val_loss: 1.5518 - val_accuracy: 0.5884\n",
            "Epoch 4/5\n",
            "2368/2368 [==============================] - 796s 336ms/step - loss: 1.8081 - accuracy: 0.5359 - val_loss: 1.5228 - val_accuracy: 0.5960\n",
            "Epoch 5/5\n",
            "2368/2368 [==============================] - 797s 337ms/step - loss: 1.7583 - accuracy: 0.5465 - val_loss: 1.5251 - val_accuracy: 0.5927\n"
          ]
        }
      ],
      "source": [
        "history = model.fit(train_data, epochs=5, validation_data=test_data)"
      ]
    },
    {
      "cell_type": "code",
      "execution_count": 12,
      "metadata": {
        "id": "GXs1pz2U3SO1",
        "colab": {
          "base_uri": "https://localhost:8080/"
        },
        "outputId": "73eb1a04-7b3d-482c-9a0a-fab2ab5da9f8"
      },
      "outputs": [
        {
          "output_type": "stream",
          "name": "stdout",
          "text": [
            "790/790 [==============================] - 27s 34ms/step - loss: 1.5251 - accuracy: 0.5927\n",
            "Test accuracy: 59.27128791809082%\n"
          ]
        }
      ],
      "source": [
        "loss, accuracy = model.evaluate(test_data)\n",
        "print(f\"Test accuracy: {accuracy * 100}%\")"
      ]
    }
  ],
  "metadata": {
    "accelerator": "GPU",
    "colab": {
      "machine_shape": "hm",
      "provenance": [],
      "gpuType": "V100"
    },
    "kernelspec": {
      "display_name": "Python 3",
      "name": "python3"
    },
    "language_info": {
      "name": "python"
    }
  },
  "nbformat": 4,
  "nbformat_minor": 0
}